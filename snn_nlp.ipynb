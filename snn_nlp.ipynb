{
  "nbformat": 4,
  "nbformat_minor": 0,
  "metadata": {
    "colab": {
      "name": "snn-nlp.ipynb",
      "provenance": [],
      "include_colab_link": true
    },
    "kernelspec": {
      "name": "python3",
      "display_name": "Python 3"
    }
  },
  "cells": [
    {
      "cell_type": "markdown",
      "metadata": {
        "id": "view-in-github",
        "colab_type": "text"
      },
      "source": [
        "<a href=\"https://colab.research.google.com/github/chavezoscar/CIT99F19_Dev_0/blob/master/snn_nlp.ipynb\" target=\"_parent\"><img src=\"https://colab.research.google.com/assets/colab-badge.svg\" alt=\"Open In Colab\"/></a>"
      ]
    },
    {
      "cell_type": "code",
      "metadata": {
        "id": "0kLMJe9nS-_p",
        "colab_type": "code",
        "colab": {}
      },
      "source": [
        "import pandas as pd\n",
        "import numpy as np\n",
        "import matplotlib.pyplot as plt\n",
        "import re\n",
        "import nltk\n",
        "from nltk.corpus import stopwords\n",
        "\n",
        "from numpy import array\n",
        "from keras.preprocessing.text import one_hot\n",
        "from keras.preprocessing.sequence import pad_sequences\n",
        "from keras.models import Sequential\n",
        "from keras.layers.core import Activation, Dropout, Dense\n",
        "from keras.layers import Flatten\n",
        "from keras.layers import GlobalMaxPooling1D\n",
        "from keras.layers.embeddings import Embedding\n",
        "from sklearn.model_selection import train_test_split\n",
        "from keras.preprocessing.text import Tokenizer"
      ],
      "execution_count": 0,
      "outputs": []
    },
    {
      "cell_type": "markdown",
      "metadata": {
        "id": "4xyoLbg6JcWI",
        "colab_type": "text"
      },
      "source": [
        "Importing data from computer. Then, using Padnas to import into dataframe and read from csv file"
      ]
    },
    {
      "cell_type": "code",
      "metadata": {
        "id": "bjV5_nUvJJp3",
        "colab_type": "code",
        "colab": {
          "base_uri": "https://localhost:8080/",
          "height": 35
        },
        "outputId": "9b336642-4312-4a17-c652-2797ef427adc"
      },
      "source": [
        "from google.colab import drive\n",
        "drive.mount('/content/drive')\n",
        "path = '/content/drive/My Drive/data/IMDB Dataset.csv'\n",
        "movie_reviews = pd.read_csv(path)"
      ],
      "execution_count": 2,
      "outputs": [
        {
          "output_type": "stream",
          "text": [
            "Drive already mounted at /content/drive; to attempt to forcibly remount, call drive.mount(\"/content/drive\", force_remount=True).\n"
          ],
          "name": "stdout"
        }
      ]
    },
    {
      "cell_type": "markdown",
      "metadata": {
        "id": "l5MQBGlyQMql",
        "colab_type": "text"
      },
      "source": [
        "Check for NULL value and shape data into tuple (shape of 5000, 2)"
      ]
    },
    {
      "cell_type": "code",
      "metadata": {
        "id": "-ntz52cfNYxf",
        "colab_type": "code",
        "colab": {
          "base_uri": "https://localhost:8080/",
          "height": 35
        },
        "outputId": "8897dfb5-7f22-43ea-c5c5-fe9c905f2abc"
      },
      "source": [
        "\n",
        "movie_reviews.isnull().values.any()\n",
        "movie_reviews.shape"
      ],
      "execution_count": 3,
      "outputs": [
        {
          "output_type": "execute_result",
          "data": {
            "text/plain": [
              "(50000, 2)"
            ]
          },
          "metadata": {
            "tags": []
          },
          "execution_count": 3
        }
      ]
    },
    {
      "cell_type": "markdown",
      "metadata": {
        "id": "1fceUdrORFg2",
        "colab_type": "text"
      },
      "source": [
        "Testing to see if data is loaded\n",
        "Data loads, but bad format"
      ]
    },
    {
      "cell_type": "code",
      "metadata": {
        "id": "hiwF1ULVQzmo",
        "colab_type": "code",
        "colab": {
          "base_uri": "https://localhost:8080/",
          "height": 206
        },
        "outputId": "3211664f-4c3c-40ce-cca7-0062b4af6360"
      },
      "source": [
        "movie_reviews.head()\n"
      ],
      "execution_count": 4,
      "outputs": [
        {
          "output_type": "execute_result",
          "data": {
            "text/html": [
              "<div>\n",
              "<style scoped>\n",
              "    .dataframe tbody tr th:only-of-type {\n",
              "        vertical-align: middle;\n",
              "    }\n",
              "\n",
              "    .dataframe tbody tr th {\n",
              "        vertical-align: top;\n",
              "    }\n",
              "\n",
              "    .dataframe thead th {\n",
              "        text-align: right;\n",
              "    }\n",
              "</style>\n",
              "<table border=\"1\" class=\"dataframe\">\n",
              "  <thead>\n",
              "    <tr style=\"text-align: right;\">\n",
              "      <th></th>\n",
              "      <th>review</th>\n",
              "      <th>sentiment</th>\n",
              "    </tr>\n",
              "  </thead>\n",
              "  <tbody>\n",
              "    <tr>\n",
              "      <th>0</th>\n",
              "      <td>One of the other reviewers has mentioned that ...</td>\n",
              "      <td>positive</td>\n",
              "    </tr>\n",
              "    <tr>\n",
              "      <th>1</th>\n",
              "      <td>A wonderful little production. &lt;br /&gt;&lt;br /&gt;The...</td>\n",
              "      <td>positive</td>\n",
              "    </tr>\n",
              "    <tr>\n",
              "      <th>2</th>\n",
              "      <td>I thought this was a wonderful way to spend ti...</td>\n",
              "      <td>positive</td>\n",
              "    </tr>\n",
              "    <tr>\n",
              "      <th>3</th>\n",
              "      <td>Basically there's a family where a little boy ...</td>\n",
              "      <td>negative</td>\n",
              "    </tr>\n",
              "    <tr>\n",
              "      <th>4</th>\n",
              "      <td>Petter Mattei's \"Love in the Time of Money\" is...</td>\n",
              "      <td>positive</td>\n",
              "    </tr>\n",
              "  </tbody>\n",
              "</table>\n",
              "</div>"
            ],
            "text/plain": [
              "                                              review sentiment\n",
              "0  One of the other reviewers has mentioned that ...  positive\n",
              "1  A wonderful little production. <br /><br />The...  positive\n",
              "2  I thought this was a wonderful way to spend ti...  positive\n",
              "3  Basically there's a family where a little boy ...  negative\n",
              "4  Petter Mattei's \"Love in the Time of Money\" is...  positive"
            ]
          },
          "metadata": {
            "tags": []
          },
          "execution_count": 4
        }
      ]
    },
    {
      "cell_type": "markdown",
      "metadata": {
        "id": "Qy-Q-ymrRocn",
        "colab_type": "text"
      },
      "source": [
        "Check distribution of positive / negative revies in data set using seaborn (like mathplot lib)"
      ]
    },
    {
      "cell_type": "code",
      "metadata": {
        "id": "fOwRij4dRsFd",
        "colab_type": "code",
        "colab": {
          "base_uri": "https://localhost:8080/",
          "height": 297
        },
        "outputId": "e243caac-ef15-4812-bee5-3c16696db3e1"
      },
      "source": [
        "import seaborn as sns\n",
        "sns.countplot(x=\"sentiment\", data=movie_reviews)"
      ],
      "execution_count": 5,
      "outputs": [
        {
          "output_type": "execute_result",
          "data": {
            "text/plain": [
              "<matplotlib.axes._subplots.AxesSubplot at 0x7f62bec4b940>"
            ]
          },
          "metadata": {
            "tags": []
          },
          "execution_count": 5
        },
        {
          "output_type": "display_data",
          "data": {
            "image/png": "[encoded data removed]",
            "text/plain": [
              "<Figure size 432x288 with 1 Axes>"
            ]
          },
          "metadata": {
            "tags": []
          }
        }
      ]
    },
    {
      "cell_type": "markdown",
      "metadata": {
        "id": "uOJ2J3nQSAc_",
        "colab_type": "text"
      },
      "source": [
        "Clean up and process data using funciton that removes special characters such as html tags. "
      ]
    },
    {
      "cell_type": "code",
      "metadata": {
        "id": "LeX6WYQ2SAK2",
        "colab_type": "code",
        "colab": {}
      },
      "source": [
        "def preprocess_text(sen):\n",
        "  # strip html\n",
        "  sentence = remove_tags(sen)\n",
        "  # remove punctuation\n",
        "  sentence = re.sub('[^a-zA-z]', ' ', sentence)\n",
        "  # remove single chars\n",
        "  sentence = re.sub(r\"\\s+[a-zA-z]\\s+\", ' ', sentence)\n",
        "  # remove multiple spaces \n",
        "  sentence = re.sub(r'\\s+', ' ', sentence)\n",
        "\n",
        "  return sentence\n",
        "\n",
        "TAG_RE = re.compile(r'<[^>]+>')\n",
        "def remove_tags(text):\n",
        "  return TAG_RE.sub('', text)\n"
      ],
      "execution_count": 0,
      "outputs": []
    },
    {
      "cell_type": "markdown",
      "metadata": {
        "id": "cOHl57DUTf88",
        "colab_type": "text"
      },
      "source": [
        "Preprocess reviws and store in array"
      ]
    },
    {
      "cell_type": "code",
      "metadata": {
        "id": "2h9L02yqTh9Z",
        "colab_type": "code",
        "colab": {}
      },
      "source": [
        "X = []\n",
        "sentences = list(movie_reviews['review'])\n",
        "for sen in sentences:\n",
        "  X.append(preprocess_text(sen))"
      ],
      "execution_count": 0,
      "outputs": []
    },
    {
      "cell_type": "markdown",
      "metadata": {
        "id": "YcK2KLrbU0qW",
        "colab_type": "text"
      },
      "source": [
        "check new formatted text"
      ]
    },
    {
      "cell_type": "code",
      "metadata": {
        "id": "QmFg8qnYU3c0",
        "colab_type": "code",
        "colab": {
          "base_uri": "https://localhost:8080/",
          "height": 55
        },
        "outputId": "778c7057-b559-4e9e-bf1a-44b6b469687b"
      },
      "source": [
        "X[3]"
      ],
      "execution_count": 8,
      "outputs": [
        {
          "output_type": "execute_result",
          "data": {
            "text/plain": [
              "'Basically there a family where little boy Jake thinks there a zombie in his closet his parents are fighting all the time This movie is slower than soap opera and suddenly Jake decides to become Rambo and kill the zombie OK first of all when you re going to make film you must Decide if its thriller or drama As drama the movie is watchable Parents are divorcing arguing like in real life And then we have Jake with his closet which totally ruins all the film expected to see BOOGEYMAN similar movie and instead watched drama with some meaningless thriller spots out of just for the well playing parents descent dialogs As for the shots with Jake just ignore them '"
            ]
          },
          "metadata": {
            "tags": []
          },
          "execution_count": 8
        }
      ]
    },
    {
      "cell_type": "markdown",
      "metadata": {
        "id": "YjI0Xq9YU-jL",
        "colab_type": "text"
      },
      "source": [
        "Convert sentiments (positive / negative labels) into 1 and 0"
      ]
    },
    {
      "cell_type": "code",
      "metadata": {
        "id": "tiYDq8eOVV11",
        "colab_type": "code",
        "colab": {}
      },
      "source": [
        "y = movie_reviews['sentiment']\n",
        "\n",
        "y = np.array(list(map(lambda x: 1 if x ==\"positive\" else 0, y)))\n"
      ],
      "execution_count": 0,
      "outputs": []
    },
    {
      "cell_type": "markdown",
      "metadata": {
        "id": "D4VC4BnuVzXI",
        "colab_type": "text"
      },
      "source": [
        "Split data sets into training and testing using method from sklearn, 80% training and 20% for testing, we can adjust these numbers by changing test_size to reflecting testing percentage"
      ]
    },
    {
      "cell_type": "code",
      "metadata": {
        "id": "9UAD9Zy2V4_2",
        "colab_type": "code",
        "colab": {}
      },
      "source": [
        "X_train, X_test, y_train, y_test = train_test_split(X, y, test_size=0.20, random_state=42)"
      ],
      "execution_count": 0,
      "outputs": []
    },
    {
      "cell_type": "markdown",
      "metadata": {
        "id": "fzl7y4pCWUdx",
        "colab_type": "text"
      },
      "source": [
        "**Embedding Layer**\n",
        "Keras Tokenizer lets us create an word-to-index dictionary. What this does is converts words to values. "
      ]
    },
    {
      "cell_type": "code",
      "metadata": {
        "id": "WSb72NB5W3z3",
        "colab_type": "code",
        "colab": {}
      },
      "source": [
        "tokenizer = Tokenizer(num_words=5000)\n",
        "tokenizer.fit_on_texts(X_train)\n",
        "\n",
        "X_train = tokenizer.texts_to_sequences(X_train)\n",
        "X_test = tokenizer.texts_to_sequences(X_test)\n",
        "\n"
      ],
      "execution_count": 0,
      "outputs": []
    },
    {
      "cell_type": "markdown",
      "metadata": {
        "id": "6xpWiAr1X2VC",
        "colab_type": "text"
      },
      "source": [
        "Data Padding, filling in bits  and finding vocabulary size. \n",
        "\n",
        "We have to set the maximum size of lists of data  to pad data. Helps processing. "
      ]
    },
    {
      "cell_type": "code",
      "metadata": {
        "id": "NlZvvsiPX8lQ",
        "colab_type": "code",
        "colab": {}
      },
      "source": [
        "vocab_size = len(tokenizer.word_index) + 1\n",
        "\n",
        "maxlen = 100\n",
        "\n",
        "X_train = pad_sequences(X_train, padding='post', maxlen=maxlen)\n",
        "X_test = pad_sequences(X_test, padding='post', maxlen=maxlen)\n"
      ],
      "execution_count": 0,
      "outputs": []
    },
    {
      "cell_type": "markdown",
      "metadata": {
        "id": "Xg_2DQFJY4j2",
        "colab_type": "text"
      },
      "source": [
        "We create matrices here of features and then embedd and create dictionary of keys(words) to values"
      ]
    },
    {
      "cell_type": "code",
      "metadata": {
        "id": "WECaWMEWZFkM",
        "colab_type": "code",
        "colab": {}
      },
      "source": [
        "from numpy import array\n",
        "from numpy import asarray\n",
        "from numpy import zeros\n",
        "\n",
        "# creating a new empty dictionary\n",
        "embeddings_dictionary = dict()\n",
        "\n",
        "glove_file = open('/content/drive/My Drive/data/glove.6B.100d.txt', encoding='utf8')\n",
        "\n",
        "for line in glove_file:\n",
        "  records = line.split()\n",
        "  word = records[0]\n",
        "  vector_dimensions = asarray(records[1:], dtype='float32')\n",
        "  embeddings_dictionary [word] = vector_dimensions\n",
        "\n",
        "glove_file.close()"
      ],
      "execution_count": 0,
      "outputs": []
    },
    {
      "cell_type": "markdown",
      "metadata": {
        "id": "k7p-SzuweYTN",
        "colab_type": "text"
      },
      "source": [
        "Create matrix where each row corresponds to indext of the word in dictionary"
      ]
    },
    {
      "cell_type": "code",
      "metadata": {
        "id": "nnBSoBFCefrO",
        "colab_type": "code",
        "colab": {}
      },
      "source": [
        "# creates array with shape and filled with 0s\n",
        "embedding_matrix = zeros((vocab_size, 100))\n",
        "\n",
        "for word, index in tokenizer.word_index.items():\n",
        "  embedding_vector = embeddings_dictionary.get(word)\n",
        "  if embedding_vector is not None:\n",
        "    embedding_matrix[index] = embedding_vector\n"
      ],
      "execution_count": 0,
      "outputs": []
    },
    {
      "cell_type": "markdown",
      "metadata": {
        "id": "id0IivGpgYLx",
        "colab_type": "text"
      },
      "source": [
        "Create model with simple neural network \n",
        "1. Create a sequntial model\n",
        "2. create embedding layer\n",
        "3. We are not training our own embedding layer so set to False\n",
        "4. Weights (our own values for what word are positive or negative get passed in from our own data)\n",
        "5. add layers to model"
      ]
    },
    {
      "cell_type": "code",
      "metadata": {
        "id": "7ic149HmgdQe",
        "colab_type": "code",
        "colab": {}
      },
      "source": [
        "model = Sequential()\n",
        "embedding_layer = Embedding(vocab_size, 100, weights=[embedding_matrix], input_length=maxlen, trainable=False)\n",
        "\n",
        "model.add(embedding_layer)\n",
        "#Simple Neural Network\n",
        "# model.add(Flatten())\n",
        "# trying different models Long Short Term Memory Newtork with 128 neurons\n",
        "from keras.layers.recurrent import LSTM\n",
        "model.add(LSTM(128))\n",
        "model.add(Dense(1, activation='sigmoid'))"
      ],
      "execution_count": 0,
      "outputs": []
    },
    {
      "cell_type": "markdown",
      "metadata": {
        "id": "4YeYqZvEhmz9",
        "colab_type": "text"
      },
      "source": [
        "Compile model and show summary"
      ]
    },
    {
      "cell_type": "code",
      "metadata": {
        "id": "DvUpFIvZhpl7",
        "colab_type": "code",
        "colab": {
          "base_uri": "https://localhost:8080/",
          "height": 290
        },
        "outputId": "4238a7e4-39b7-4e2d-83da-f3cc98994530"
      },
      "source": [
        "model.compile(optimizer='adam', loss='binary_crossentropy', metrics=['acc'])\n",
        "\n",
        "print(model.summary())"
      ],
      "execution_count": 51,
      "outputs": [
        {
          "output_type": "stream",
          "text": [
            "Model: \"sequential_3\"\n",
            "_________________________________________________________________\n",
            "Layer (type)                 Output Shape              Param #   \n",
            "=================================================================\n",
            "embedding_3 (Embedding)      (None, 100, 100)          9254700   \n",
            "_________________________________________________________________\n",
            "lstm_1 (LSTM)                (None, 128)               117248    \n",
            "_________________________________________________________________\n",
            "dense_2 (Dense)              (None, 1)                 129       \n",
            "=================================================================\n",
            "Total params: 9,372,077\n",
            "Trainable params: 117,377\n",
            "Non-trainable params: 9,254,700\n",
            "_________________________________________________________________\n",
            "None\n"
          ],
          "name": "stdout"
        }
      ]
    },
    {
      "cell_type": "markdown",
      "metadata": {
        "id": "MfJ-9YkCh85i",
        "colab_type": "text"
      },
      "source": [
        "Training model\n",
        "fit method to train neural nework, we are only using 20% of our data to train (validation_split)"
      ]
    },
    {
      "cell_type": "code",
      "metadata": {
        "id": "7oH_2M3Qh-6u",
        "colab_type": "code",
        "colab": {
          "base_uri": "https://localhost:8080/",
          "height": 254
        },
        "outputId": "2852484e-5a0a-4549-f4bf-a890da9c350c"
      },
      "source": [
        "history = model.fit(X_train, y_train, batch_size=128, epochs=6, verbose=1, validation_split=0.2)"
      ],
      "execution_count": 52,
      "outputs": [
        {
          "output_type": "stream",
          "text": [
            "Train on 32000 samples, validate on 8000 samples\n",
            "Epoch 1/6\n",
            "32000/32000 [==============================] - 77s 2ms/step - loss: 0.6020 - acc: 0.6626 - val_loss: 0.4724 - val_acc: 0.7920\n",
            "Epoch 2/6\n",
            "32000/32000 [==============================] - 76s 2ms/step - loss: 0.4393 - acc: 0.7984 - val_loss: 0.4073 - val_acc: 0.8134\n",
            "Epoch 3/6\n",
            "32000/32000 [==============================] - 77s 2ms/step - loss: 0.3877 - acc: 0.8239 - val_loss: 0.3700 - val_acc: 0.8334\n",
            "Epoch 4/6\n",
            "32000/32000 [==============================] - 77s 2ms/step - loss: 0.3628 - acc: 0.8396 - val_loss: 0.3587 - val_acc: 0.8390\n",
            "Epoch 5/6\n",
            "32000/32000 [==============================] - 76s 2ms/step - loss: 0.3401 - acc: 0.8505 - val_loss: 0.3527 - val_acc: 0.8485\n",
            "Epoch 6/6\n",
            "32000/32000 [==============================] - 77s 2ms/step - loss: 0.3184 - acc: 0.8618 - val_loss: 0.3667 - val_acc: 0.8430\n"
          ],
          "name": "stdout"
        }
      ]
    },
    {
      "cell_type": "markdown",
      "metadata": {
        "id": "9OU71w_biXQs",
        "colab_type": "text"
      },
      "source": [
        "Evaluate perfomance"
      ]
    },
    {
      "cell_type": "code",
      "metadata": {
        "id": "R1Y4mcz6iaXv",
        "colab_type": "code",
        "colab": {
          "base_uri": "https://localhost:8080/",
          "height": 72
        },
        "outputId": "4df18ea9-f5d2-4c73-b64a-b8c5b629674e"
      },
      "source": [
        "score = model.evaluate(X_test, y_test, verbose=1)\n",
        "print(\"Test Score: \", score[0])\n",
        "print(\"Test Accuracy: \", score[1])"
      ],
      "execution_count": 53,
      "outputs": [
        {
          "output_type": "stream",
          "text": [
            "10000/10000 [==============================] - 9s 946us/step\n",
            "Test Score:  0.36450932698249816\n",
            "Test Accuracy:  0.8457\n"
          ],
          "name": "stdout"
        }
      ]
    },
    {
      "cell_type": "markdown",
      "metadata": {
        "id": "FSUa5TqGisJz",
        "colab_type": "text"
      },
      "source": [
        "Plotting accuracy and loss"
      ]
    },
    {
      "cell_type": "code",
      "metadata": {
        "id": "pDOB2BzqiukX",
        "colab_type": "code",
        "colab": {
          "base_uri": "https://localhost:8080/",
          "height": 591
        },
        "outputId": "46ca0d77-8972-4b24-c091-0cc1f2e80415"
      },
      "source": [
        "plt.plot(history.history['acc'])\n",
        "plt.plot(history.history['val_acc'])\n",
        "\n",
        "plt.title('model accuracy')\n",
        "plt.ylabel('accuracy')\n",
        "plt.xlabel('epoch')\n",
        "plt.legend(['train','test'], loc = 'upper left')\n",
        "plt.show()\n",
        "\n",
        "plt.plot(history.history['loss'])\n",
        "plt.plot(history.history['val_loss'])\n",
        "\n",
        "plt.title('model loss')\n",
        "plt.ylabel('loss')\n",
        "plt.xlabel('epoch')\n",
        "plt.legend(['train','test'], loc = 'upper left')"
      ],
      "execution_count": 54,
      "outputs": [
        {
          "output_type": "display_data",
          "data": {
            "image/png": "[encoded data removed]",
            "text/plain": [
              "<Figure size 432x288 with 1 Axes>"
            ]
          },
          "metadata": {
            "tags": []
          }
        },
        {
          "output_type": "execute_result",
          "data": {
            "text/plain": [
              "<matplotlib.legend.Legend at 0x7f62ac886630>"
            ]
          },
          "metadata": {
            "tags": []
          },
          "execution_count": 54
        },
        {
          "output_type": "display_data",
          "data": {
            "image/png": "[encoded data removed]",
            "text/plain": [
              "<Figure size 432x288 with 1 Axes>"
            ]
          },
          "metadata": {
            "tags": []
          }
        }
      ]
    },
    {
      "cell_type": "markdown",
      "metadata": {
        "id": "aVCMFjBQoUhG",
        "colab_type": "text"
      },
      "source": [
        "RNN is giving us best results since data overfitting is not happening "
      ]
    },
    {
      "cell_type": "markdown",
      "metadata": {
        "id": "dQJQPZUOodB1",
        "colab_type": "text"
      },
      "source": [
        "Making a prediction on a few instances"
      ]
    },
    {
      "cell_type": "code",
      "metadata": {
        "id": "MhkJa_F0o1mF",
        "colab_type": "code",
        "colab": {
          "base_uri": "https://localhost:8080/",
          "height": 35
        },
        "outputId": "0df76e88-546a-4639-cfae-89087c23c3ff"
      },
      "source": [
        "mediocreReview = 'I appreciate the clear success criteria and learning objective still being present so that S can refer to it with a sub especially in the case if Lopez had to step out'\n",
        "badReview = 'Students finish the warm up then listen to Chavez explain the lesson Directs listen to the introduction and copy annotations modeled by the teacher Lopez redirects distracted students Consider how we might assess students prior knowledge to know the appropriate starting place and help them build schema. Some guiding questions prior to annotating the notes might be a quick opportunity. Thanks for building in the formative assessment opportunity. Consider what additional opportunity might exist in some structured conversation'\n",
        "kindaPositive = 'While some students finish testing others read and annotate an article in news Students are to identify the topic and central idea of every paragraph Thanks for providing not testing students with a meaningful activity that aligns with your unit objectives while being flexible to allow others to finish testing Inconvenient but you are making it work'\n",
        "genericReview = 'Thanks for facilitating class norms by hearing from your students We have learned that students having a voice leads to ownership and higher engagementso Im sure you all have a great year'\n",
        "\n",
        "# change text to sequence of nums\n",
        "instance = tokenizer.texts_to_sequences(mediocreReview)\n",
        "\n",
        "#array-ify\n",
        "flat_list = []\n",
        "for sublist in instance:\n",
        "  for item in sublist:\n",
        "    flat_list.append(item)\n",
        "\n",
        "flat_list = [flat_list]\n",
        "\n",
        "instance = pad_sequences(flat_list, padding='post', maxlen=maxlen)\n",
        "\n",
        "model.predict(instance)"
      ],
      "execution_count": 56,
      "outputs": [
        {
          "output_type": "execute_result",
          "data": {
            "text/plain": [
              "array([[0.56903857]], dtype=float32)"
            ]
          },
          "metadata": {
            "tags": []
          },
          "execution_count": 56
        }
      ]
    },
    {
      "cell_type": "markdown",
      "metadata": {
        "id": "69eh8-Mqra01",
        "colab_type": "text"
      },
      "source": [
        "Mediocre = should be in the middle and prediction comes out about 56% percent :)\n"
      ]
    },
    {
      "cell_type": "code",
      "metadata": {
        "id": "huGDpQoVrxfA",
        "colab_type": "code",
        "colab": {
          "base_uri": "https://localhost:8080/",
          "height": 35
        },
        "outputId": "d1a308a0-294f-4a30-91fb-c702b91892d6"
      },
      "source": [
        "# change text to sequence of nums\n",
        "instance2 = tokenizer.texts_to_sequences(badReview)\n",
        "\n",
        "#array-ify\n",
        "flat_list = []\n",
        "for sublist in instance2:\n",
        "  for item in sublist:\n",
        "    flat_list.append(item)\n",
        "\n",
        "flat_list = [flat_list]\n",
        "\n",
        "instance2 = pad_sequences(flat_list, padding='post', maxlen=maxlen)\n",
        "\n",
        "model.predict(instance2)"
      ],
      "execution_count": 59,
      "outputs": [
        {
          "output_type": "execute_result",
          "data": {
            "text/plain": [
              "array([[0.64932656]], dtype=float32)"
            ]
          },
          "metadata": {
            "tags": []
          },
          "execution_count": 59
        }
      ]
    },
    {
      "cell_type": "markdown",
      "metadata": {
        "id": "eWTQNSB1r9rD",
        "colab_type": "text"
      },
      "source": [
        "bad = expeced to be negative, but ends up at 64% so more on positive :/"
      ]
    },
    {
      "cell_type": "code",
      "metadata": {
        "id": "AZDz-UV7sGRS",
        "colab_type": "code",
        "colab": {
          "base_uri": "https://localhost:8080/",
          "height": 35
        },
        "outputId": "1866c7ab-e5f7-41ea-eee8-22dedd7df8df"
      },
      "source": [
        "# change text to sequence of nums\n",
        "instance3 = tokenizer.texts_to_sequences(kindaPositive)\n",
        "\n",
        "#array-ify\n",
        "flat_list = []\n",
        "for sublist in instance3:\n",
        "  for item in sublist:\n",
        "    flat_list.append(item)\n",
        "\n",
        "flat_list = [flat_list]\n",
        "\n",
        "instance3 = pad_sequences(flat_list, padding='post', maxlen=maxlen)\n",
        "\n",
        "model.predict(instance3)"
      ],
      "execution_count": 61,
      "outputs": [
        {
          "output_type": "execute_result",
          "data": {
            "text/plain": [
              "array([[0.94197834]], dtype=float32)"
            ]
          },
          "metadata": {
            "tags": []
          },
          "execution_count": 61
        }
      ]
    },
    {
      "cell_type": "markdown",
      "metadata": {
        "id": "QgRi5sQGsWNg",
        "colab_type": "text"
      },
      "source": [
        "kinda positive = came out to positive at 94% :)"
      ]
    },
    {
      "cell_type": "code",
      "metadata": {
        "id": "3wBpikIFsdlA",
        "colab_type": "code",
        "colab": {
          "base_uri": "https://localhost:8080/",
          "height": 35
        },
        "outputId": "1f7ea5f9-fea5-4c19-f946-e948a631c43b"
      },
      "source": [
        "# change text to sequence of nums\n",
        "instance4 = tokenizer.texts_to_sequences(genericReview)\n",
        "\n",
        "#array-ify\n",
        "flat_list = []\n",
        "for sublist in instance4:\n",
        "  for item in sublist:\n",
        "    flat_list.append(item)\n",
        "\n",
        "flat_list = [flat_list]\n",
        "\n",
        "instance4 = pad_sequences(flat_list, padding='post', maxlen=maxlen)\n",
        "\n",
        "model.predict(instance4)"
      ],
      "execution_count": 62,
      "outputs": [
        {
          "output_type": "execute_result",
          "data": {
            "text/plain": [
              "array([[0.7545239]], dtype=float32)"
            ]
          },
          "metadata": {
            "tags": []
          },
          "execution_count": 62
        }
      ]
    },
    {
      "cell_type": "markdown",
      "metadata": {
        "id": "viRy38ehsk3d",
        "colab_type": "text"
      },
      "source": [
        "Generic review came out to 75 which is more on the positive side, but if we skew our data and we can all this a C which is most common grade :)"
      ]
    }
  ]
}